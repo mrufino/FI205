{
 "cells": [
  {
   "cell_type": "code",
   "execution_count": 4,
   "id": "3c2c41e4-491a-44d9-aa0d-191def89ee97",
   "metadata": {},
   "outputs": [
    {
     "name": "stdout",
     "output_type": "stream",
     "text": [
      "Valor ótimo encontrado: 1.0000000000000087\n",
      "Matriz X ótima:\n",
      "[[5.00000000e-01 1.57003348e-20 3.97950256e-22 5.00000000e-01]\n",
      " [1.57003348e-20 1.25312323e-15 5.29555817e-15 1.57003348e-20]\n",
      " [3.97950256e-22 5.29555817e-15 1.25312324e-15 3.97950256e-22]\n",
      " [5.00000000e-01 1.57003348e-20 3.97950256e-22 5.00000000e-01]]\n"
     ]
    }
   ],
   "source": [
    "#Resolvendo o problema 6.\n",
    "import cvxpy as cp\n",
    "import numpy as np\n",
    "\n",
    "# Problem data.\n",
    "A = np.array([[0, 0, 0, 1],\n",
    "              [0, 0, 1, 0],\n",
    "              [0, 1, 0, 0],\n",
    "              [1, 0, 0, 0]])\n",
    "\n",
    "B = np.array([[1, 0, 0, 0],\n",
    "              [0, -1, 0, 0],\n",
    "              [0, 0, -1, 0],\n",
    "              [0, 0, 0, 1]])\n",
    "\n",
    "# Variável de otimização\n",
    "X = cp.Variable((4, 4), PSD=True)  # Definindo X como uma matriz semidefinida positiva (PSD)\n",
    "\n",
    "# Definição do problema de otimização\n",
    "fo = cp.Maximize(cp.trace(A @ X)) #função objetivo\n",
    "fi = [cp.trace(B @ X) == 1, cp.trace(X) == 1, X >> 0]  # vínculos\n",
    "problem = cp.Problem(fo, fi) \n",
    "\n",
    "# Resolvendo o problema\n",
    "problem.solve()\n",
    "\n",
    "# Verificando o status da solução\n",
    "if problem.status == cp.OPTIMAL:\n",
    "    # Imprimindo o valor ótimo encontrado e a matriz X\n",
    "    print(\"Valor ótimo encontrado:\", problem.value)\n",
    "    print(\"Matriz X ótima:\")\n",
    "    print(X.value)\n",
    "else:\n",
    "    print(\"O problema não foi resolvido de forma ótima.\")\n"
   ]
  },
  {
   "cell_type": "code",
   "execution_count": null,
   "id": "a98c43a8-44c5-425c-a5e4-eeea2c392b72",
   "metadata": {},
   "outputs": [],
   "source": []
  }
 ],
 "metadata": {
  "kernelspec": {
   "display_name": "Python 3 (ipykernel)",
   "language": "python",
   "name": "python3"
  },
  "language_info": {
   "codemirror_mode": {
    "name": "ipython",
    "version": 3
   },
   "file_extension": ".py",
   "mimetype": "text/x-python",
   "name": "python",
   "nbconvert_exporter": "python",
   "pygments_lexer": "ipython3",
   "version": "3.10.0"
  }
 },
 "nbformat": 4,
 "nbformat_minor": 5
}
